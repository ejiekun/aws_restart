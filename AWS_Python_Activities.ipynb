{
 "cells": [
  {
   "cell_type": "code",
   "execution_count": 1,
   "metadata": {},
   "outputs": [
    {
     "name": "stdout",
     "output_type": "stream",
     "text": [
      "Hello, World\n"
     ]
    }
   ],
   "source": [
    "print(\"Hello, World\")"
   ]
  },
  {
   "cell_type": "code",
   "execution_count": 2,
   "metadata": {},
   "outputs": [
    {
     "name": "stdout",
     "output_type": "stream",
     "text": [
      "1\n",
      "<class 'int'>\n",
      "1 is of the data type <class 'int'>\n"
     ]
    }
   ],
   "source": [
    "myValue=1\n",
    "print(myValue)\n",
    "print(type(myValue))\n",
    "print(str(myValue) + \" is of the data type \" + str(type(myValue)))"
   ]
  },
  {
   "cell_type": "code",
   "execution_count": 4,
   "metadata": {},
   "outputs": [
    {
     "name": "stdout",
     "output_type": "stream",
     "text": [
      "3.14\n",
      "<class 'float'>\n",
      "3.14 is of the data type <class 'float'>\n"
     ]
    }
   ],
   "source": [
    "myValue=3.14\n",
    "print(myValue)\n",
    "print(type(myValue))\n",
    "print(str(myValue) + \" is of the data type \" + str(type(myValue)))"
   ]
  },
  {
   "cell_type": "code",
   "execution_count": 5,
   "metadata": {},
   "outputs": [
    {
     "name": "stdout",
     "output_type": "stream",
     "text": [
      "5j\n",
      "<class 'complex'>\n",
      "5j is of the data type <class 'complex'>\n"
     ]
    }
   ],
   "source": [
    "myValue=5j\n",
    "print(myValue)\n",
    "print(type(myValue))\n",
    "print(str(myValue) + \" is of the data type \" + str(type(myValue)))"
   ]
  },
  {
   "cell_type": "code",
   "execution_count": 7,
   "metadata": {},
   "outputs": [
    {
     "name": "stdout",
     "output_type": "stream",
     "text": [
      "True\n",
      "<class 'bool'>\n",
      "True is of the data type <class 'bool'>\n"
     ]
    }
   ],
   "source": [
    "myValue=True\n",
    "print(myValue)\n",
    "print(type(myValue))\n",
    "print(str(myValue) + \" is of the data type \" + str(type(myValue)))"
   ]
  },
  {
   "cell_type": "code",
   "execution_count": 8,
   "metadata": {},
   "outputs": [
    {
     "name": "stdout",
     "output_type": "stream",
     "text": [
      "False\n",
      "<class 'bool'>\n",
      "False is of the data type <class 'bool'>\n"
     ]
    }
   ],
   "source": [
    "myValue=False\n",
    "print(myValue)\n",
    "print(type(myValue))\n",
    "print(str(myValue) + \" is of the data type \" + str(type(myValue)))"
   ]
  },
  {
   "cell_type": "code",
   "execution_count": 9,
   "metadata": {},
   "outputs": [
    {
     "name": "stdout",
     "output_type": "stream",
     "text": [
      "This is a string.\n",
      "<class 'str'>\n",
      "This is a string. is of the data type <class 'str'>\n"
     ]
    }
   ],
   "source": [
    "myString = \"This is a string.\"\n",
    "print(myString)\n",
    "print(type(myString))\n",
    "print(myString + \" is of the data type \" + str(type(myString)))"
   ]
  },
  {
   "cell_type": "code",
   "execution_count": 10,
   "metadata": {},
   "outputs": [
    {
     "name": "stdout",
     "output_type": "stream",
     "text": [
      "waterfall\n"
     ]
    }
   ],
   "source": [
    "firstString = \"water\"\n",
    "secondString = \"fall\"\n",
    "thirdString = firstString + secondString\n",
    "print(thirdString)"
   ]
  },
  {
   "cell_type": "code",
   "execution_count": 12,
   "metadata": {},
   "outputs": [
    {
     "name": "stdout",
     "output_type": "stream",
     "text": [
      "ejie\n",
      "ejie, you like a blue dog!\n"
     ]
    }
   ],
   "source": [
    "name = input(\"What is your name? \")\n",
    "print(name)\n",
    "color = input(\"What is your favorite color?  \")\n",
    "animal = input(\"What is your favorite animal?  \")\n",
    "print(\"{}, you like a {} {}!\".format(name,color,animal))"
   ]
  },
  {
   "cell_type": "code",
   "execution_count": 14,
   "metadata": {},
   "outputs": [
    {
     "name": "stdout",
     "output_type": "stream",
     "text": [
      "['apple', 'banana', 'cherry']\n",
      "<class 'list'>\n",
      "apple\n",
      "banana\n",
      "cherry\n",
      "['apple', 'banana', 'orange']\n"
     ]
    }
   ],
   "source": [
    "myFruitList = [\"apple\", \"banana\", \"cherry\"]\n",
    "print(myFruitList)\n",
    "print(type(myFruitList))\n",
    "print(myFruitList[0])\n",
    "print(myFruitList[1])\n",
    "print(myFruitList[2])\n",
    "\n",
    "myFruitList[2] = \"orange\"\n",
    "print(myFruitList)"
   ]
  },
  {
   "cell_type": "code",
   "execution_count": 19,
   "metadata": {},
   "outputs": [
    {
     "name": "stdout",
     "output_type": "stream",
     "text": [
      "('apple', 'banana', 'pineapple')\n",
      "<class 'tuple'>\n",
      "apple\n",
      "banana\n",
      "pineapple\n"
     ]
    }
   ],
   "source": [
    "myFinalAnswerTuple = (\"apple\", \"banana\", \"pineapple\")\n",
    "print(myFinalAnswerTuple)\n",
    "print(type(myFinalAnswerTuple))\n",
    "print(myFinalAnswerTuple[0])\n",
    "print(myFinalAnswerTuple[1])\n",
    "print(myFinalAnswerTuple[2])"
   ]
  },
  {
   "cell_type": "code",
   "execution_count": 21,
   "metadata": {},
   "outputs": [
    {
     "name": "stdout",
     "output_type": "stream",
     "text": [
      "{'Akua': 'apple', 'Saanvi': 'banana', 'Paulo': 'pineapple'}\n",
      "<class 'dict'>\n",
      "apple\n",
      "banana\n",
      "pineapple\n"
     ]
    }
   ],
   "source": [
    "myFavoriteFruitDictionary = {\n",
    "  \"Akua\" : \"apple\",\n",
    "  \"Saanvi\" : \"banana\",\n",
    "  \"Paulo\" : \"pineapple\"\n",
    "}\n",
    "\n",
    "print(myFavoriteFruitDictionary)\n",
    "print(type(myFavoriteFruitDictionary))\n",
    "print(myFavoriteFruitDictionary[\"Akua\"])\n",
    "print(myFavoriteFruitDictionary[\"Saanvi\"])\n",
    "print(myFavoriteFruitDictionary[\"Paulo\"])"
   ]
  },
  {
   "cell_type": "code",
   "execution_count": 22,
   "metadata": {},
   "outputs": [
    {
     "name": "stdout",
     "output_type": "stream",
     "text": [
      "45 is of the data type <class 'int'>\n",
      "290578 is of the data type <class 'int'>\n",
      "1.02 is of the data type <class 'float'>\n",
      "True is of the data type <class 'bool'>\n",
      "My dog is on the bed. is of the data type <class 'str'>\n",
      "45 is of the data type <class 'str'>\n"
     ]
    }
   ],
   "source": [
    "myMixedTypeList = [45, 290578, 1.02, True, \"My dog is on the bed.\", \"45\"]\n",
    "for item in myMixedTypeList:\n",
    "    print(\"{} is of the data type {}\".format(item,type(item)))"
   ]
  },
  {
   "cell_type": "code",
   "execution_count": 23,
   "metadata": {},
   "outputs": [
    {
     "name": "stdout",
     "output_type": "stream",
     "text": [
      "vin : <empty>\n",
      "make : <empty>\n",
      "model : <empty>\n",
      "year : 0\n",
      "range : 0\n",
      "topSpeed : 0\n",
      "zeroSixty : 0.0\n",
      "mileage : 0\n",
      "Column names are: vin, make, model, year, range, topSpeed, zeroSixty, mileage\n",
      "vin: TMX20122 make: AnyCompany Motors, model:  Coupe, year:  2012, range:  335, topSpeed:  155, zeroSixty:  4.1, mileage:  50000\n",
      "vin: TM320163 make: AnyCompany Motors, model:  Sedan, year:  2016, range:  240, topSpeed:  140, zeroSixty:  5.2, mileage:  20000\n",
      "vin: TMX20121 make: AnyCompany Motors, model:  SUV, year:  2012, range:  295, topSpeed:  155, zeroSixty:  4.7, mileage:  100000\n",
      "vin: TMX20204 make: AnyCompany Motors, model:  Truck, year:  2020, range:  300, topSpeed:  155, zeroSixty:  3.5, mileage:  0\n",
      "Processed 5 lines.\n",
      "vin : TMX20122\n",
      "-----\n",
      "make : AnyCompany Motors\n",
      "-----\n",
      "model :  Coupe\n",
      "-----\n",
      "year :  2012\n",
      "-----\n",
      "range :  335\n",
      "-----\n",
      "topSpeed :  155\n",
      "-----\n",
      "zeroSixty :  4.1\n",
      "-----\n",
      "mileage :  50000\n",
      "-----\n",
      "vin : TM320163\n",
      "-----\n",
      "make : AnyCompany Motors\n",
      "-----\n",
      "model :  Sedan\n",
      "-----\n",
      "year :  2016\n",
      "-----\n",
      "range :  240\n",
      "-----\n",
      "topSpeed :  140\n",
      "-----\n",
      "zeroSixty :  5.2\n",
      "-----\n",
      "mileage :  20000\n",
      "-----\n",
      "vin : TMX20121\n",
      "-----\n",
      "make : AnyCompany Motors\n",
      "-----\n",
      "model :  SUV\n",
      "-----\n",
      "year :  2012\n",
      "-----\n",
      "range :  295\n",
      "-----\n",
      "topSpeed :  155\n",
      "-----\n",
      "zeroSixty :  4.7\n",
      "-----\n",
      "mileage :  100000\n",
      "-----\n",
      "vin : TMX20204\n",
      "-----\n",
      "make : AnyCompany Motors\n",
      "-----\n",
      "model :  Truck\n",
      "-----\n",
      "year :  2020\n",
      "-----\n",
      "range :  300\n",
      "-----\n",
      "topSpeed :  155\n",
      "-----\n",
      "zeroSixty :  3.5\n",
      "-----\n",
      "mileage :  0\n",
      "-----\n"
     ]
    }
   ],
   "source": [
    "import csv\n",
    "import copy\n",
    "\n",
    "myVehicle = {\n",
    "    \"vin\" : \"<empty>\",\n",
    "    \"make\" : \"<empty>\" ,\n",
    "    \"model\" : \"<empty>\" ,\n",
    "    \"year\" : 0,\n",
    "    \"range\" : 0,\n",
    "    \"topSpeed\" : 0,\n",
    "    \"zeroSixty\" : 0.0,\n",
    "    \"mileage\" : 0\n",
    "}\n",
    "\n",
    "for key, value in myVehicle.items():\n",
    "    print(\"{} : {}\".format(key,value))\n",
    "\n",
    "myInventoryList = []\n",
    "with open('car_fleet.csv') as csvFile:\n",
    "    csvReader = csv.reader(csvFile, delimiter=',')  \n",
    "    lineCount = 0  \n",
    "    for row in csvReader:\n",
    "        if lineCount == 0:\n",
    "            print(f'Column names are: {\", \".join(row)}')  \n",
    "            lineCount += 1  \n",
    "        else:  \n",
    "            print(f'vin: {row[0]} make: {row[1]}, model: {row[2]}, year: {row[3]}, range: {row[4]}, topSpeed: {row[5]}, zeroSixty: {row[6]}, mileage: {row[7]}')  \n",
    "            currentVehicle = copy.deepcopy(myVehicle)  \n",
    "            currentVehicle[\"vin\"] = row[0]  \n",
    "            currentVehicle[\"make\"] = row[1]  \n",
    "            currentVehicle[\"model\"] = row[2]  \n",
    "            currentVehicle[\"year\"] = row[3]  \n",
    "            currentVehicle[\"range\"] = row[4]  \n",
    "            currentVehicle[\"topSpeed\"] = row[5]  \n",
    "            currentVehicle[\"zeroSixty\"] = row[6]  \n",
    "            currentVehicle[\"mileage\"] = row[7]  \n",
    "            myInventoryList.append(currentVehicle)  \n",
    "            lineCount += 1  \n",
    "    print(f'Processed {lineCount} lines.')\n",
    "\n",
    "    currentVehicle = copy.deepcopy(myVehicle)\n",
    "    for myCarProperties in myInventoryList:\n",
    "        for key, value in myCarProperties.items():\n",
    "            print(\"{} : {}\".format(key,value))\n",
    "            print(\"-----\")\n",
    "    "
   ]
  },
  {
   "cell_type": "code",
   "execution_count": 25,
   "metadata": {},
   "outputs": [
    {
     "name": "stdout",
     "output_type": "stream",
     "text": [
      "We can help you ship that package!\n"
     ]
    }
   ],
   "source": [
    "userReply = input(\"Do you need to ship a package? (Enter yes or no) \")\n",
    "if userReply == \"yes\":\n",
    "    print(\"We can help you ship that package!\")\n",
    "else:\n",
    "    print(\"Please come back when you need to ship a package. Thank you.\")"
   ]
  },
  {
   "cell_type": "code",
   "execution_count": 26,
   "metadata": {},
   "outputs": [
    {
     "name": "stdout",
     "output_type": "stream",
     "text": [
      "We have many envelope sizes to choose from.\n"
     ]
    }
   ],
   "source": [
    "userReply = input(\"Would you like to buy stamps, buy an envelope, or make a copy? (Enter stamps, envelope, or copy) \")\n",
    "if userReply == \"stamps\":\n",
    "    print(\"We have many stamp designs to choose from.\")\n",
    "elif userReply == \"envelope\":\n",
    "    print(\"We have many envelope sizes to choose from.\")\n",
    "elif userReply == \"copy\":\n",
    "    copies = input(\"How many copies would you like? (Enter a number) \")\n",
    "    print(\"Here are {} copies.\".format(copies))\n",
    "else:\n",
    "    print(\"Thank you, please come again.\")"
   ]
  },
  {
   "cell_type": "code",
   "execution_count": 31,
   "metadata": {},
   "outputs": [
    {
     "name": "stdout",
     "output_type": "stream",
     "text": [
      "Welcome to Guess the Number!\n",
      "The rules are simple. I will think of a number, and you will try to guess it.\n",
      "You guessed 56. Sorry, your guess it too low. Try again.\n",
      "You guessed 65. Sorry, your guess is too high. Try again.\n",
      "You guessed 60. Sorry, your guess it too low. Try again.\n",
      "You guessed 62. Sorry, your guess it too low. Try again.\n",
      "You guessed 63. Sorry, your guess it too low. Try again.\n",
      "You guessed 64. That is correct! You win!\n"
     ]
    }
   ],
   "source": [
    "import random\n",
    "\n",
    "print(\"Welcome to Guess the Number!\")\n",
    "print(\"The rules are simple. I will think of a number, and you will try to guess it.\")\n",
    "\n",
    "number = random.randint(1,100)\n",
    "isGuessRight = False\n",
    "while isGuessRight != True:\n",
    "    guess = input(\"Guess a number between 1 and 100: \")\n",
    "    if int(guess) == number:\n",
    "        print(\"You guessed {}. That is correct! You win!\".format(guess))\n",
    "        isGuessRight = True\n",
    "    elif int(guess) > number:\n",
    "        print(\"You guessed {}. Sorry, your guess is too high. Try again.\".format(guess))\n",
    "    elif int(guess) < number:\n",
    "        print(\"You guessed {}. Sorry, your guess it too low. Try again.\".format(guess))\n",
    "\n"
   ]
  },
  {
   "cell_type": "code",
   "execution_count": 32,
   "metadata": {},
   "outputs": [
    {
     "name": "stdout",
     "output_type": "stream",
     "text": [
      "Count to 10!\n",
      "0\n",
      "1\n",
      "2\n",
      "3\n",
      "4\n",
      "5\n",
      "6\n",
      "7\n",
      "8\n",
      "9\n",
      "10\n"
     ]
    }
   ],
   "source": [
    "print(\"Count to 10!\")\n",
    "for x in range (0, 11):\n",
    "    print(x)"
   ]
  },
  {
   "cell_type": "code",
   "execution_count": null,
   "metadata": {},
   "outputs": [],
   "source": []
  }
 ],
 "metadata": {
  "kernelspec": {
   "display_name": "Python 3",
   "language": "python",
   "name": "python3"
  },
  "language_info": {
   "codemirror_mode": {
    "name": "ipython",
    "version": 3
   },
   "file_extension": ".py",
   "mimetype": "text/x-python",
   "name": "python",
   "nbconvert_exporter": "python",
   "pygments_lexer": "ipython3",
   "version": "3.11.5"
  },
  "orig_nbformat": 4
 },
 "nbformat": 4,
 "nbformat_minor": 2
}
